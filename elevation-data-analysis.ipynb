{
 "cells": [
  {
   "cell_type": "markdown",
   "id": "503f828e",
   "metadata": {},
   "source": [
    "# 1. Elevation Data Reading\n",
    "\n",
    "In this notebook we access and compare elevation data for four different data sets: SRTM3, SRTM30, EARTH2014 and GMTED2010. "
   ]
  },
  {
   "cell_type": "code",
   "execution_count": 9,
   "id": "4e0e9e00",
   "metadata": {},
   "outputs": [],
   "source": [
    "import numpy as np\n",
    "import os\n",
    "import pickle \n",
    "import re\n",
    "import rasterio\n",
    "from osgeo import gdal\n",
    "import sys"
   ]
  },
  {
   "cell_type": "markdown",
   "id": "01b92d9b",
   "metadata": {},
   "source": [
    "Change the following paths to point to the correct locations of the datasets. Note that the datasets were too large for my linux personal laptop, so they were stored in an external drive. "
   ]
  },
  {
   "cell_type": "code",
   "execution_count": 10,
   "id": "f2a89121",
   "metadata": {},
   "outputs": [],
   "source": [
    "SRTM3_PATH = '/media/sushi/Expansion/Data/SRTM3/'\n",
    "SRTM30_PATH = '/media/sushi/Expansion/Data/SRTM30/'\n",
    "GMTED2010_PATH = '/media/sushi/Expansion/Data/GMTED2010_MEAN_HEIGHTS/'\n",
    "EARTH2014_PATH = '/media/sushi/Expansion/Data/EARTH2014/'"
   ]
  },
  {
   "cell_type": "markdown",
   "id": "26b3066a",
   "metadata": {},
   "source": [
    "## 1.1 SRTM3 (3 arcseconds)"
   ]
  },
  {
   "cell_type": "markdown",
   "id": "f695c08d",
   "metadata": {},
   "source": [
    "For SRTM3, the provided files range from $-56^\\deg$ to $60^\\deg$ in latitude and from $-180^\\deg$ to $180^\\deg$ in longitude. For reference the file \"N14E100.hgt\" has N14E100 at its bottom left corner when viewed as a 1201 by 1201 sample file, and the top left corner has coordinate N15E100."
   ]
  },
  {
   "cell_type": "code",
   "execution_count": 11,
   "id": "25e1d8d2",
   "metadata": {},
   "outputs": [],
   "source": [
    "SRTM3_SAMPLES = 1201\n",
    "\n",
    "# default signature for all functions is lat followed by lon\n",
    "\n",
    "def read_elevation_from_file_SRTM3(filename, latitude, longitude):\n",
    "    dataset = gdal.Open(SRTM3_PATH + filename)\n",
    "    elevation_data = dataset.ReadAsArray()\n",
    "        \n",
    "    lat_name, lon_name = re.findall(r\"\\d+\", filename)\n",
    "    lat_file, lon_file = int(lat_name), int(lon_name)\n",
    "    \n",
    "    directions = re.findall(r\"[A-Za-z]\", filename)\n",
    "    if directions[0] == 'S':\n",
    "        lat_file *= -1\n",
    "    if directions[1] == 'W':\n",
    "        lon_file *= -1\n",
    "        \n",
    "    lat_row = SRTM3_SAMPLES - 1 - int(round((latitude - lat_file) * (SRTM3_SAMPLES - 1)))\n",
    "    lon_row = int(round((longitude - lon_file) * (SRTM3_SAMPLES - 1)))\n",
    "    return elevation_data[lat_row, lon_row]"
   ]
  },
  {
   "cell_type": "code",
   "execution_count": 14,
   "id": "39bf01a4",
   "metadata": {},
   "outputs": [],
   "source": [
    "def get_elevation_SRTM3(latitude, longitude):\n",
    "    lat_name = int(np.floor(latitude))\n",
    "    lon_name = int(np.floor(longitude))\n",
    "    \n",
    "    filename = \"\"\n",
    "    if lat_name >= 0:\n",
    "        filename += (\"N\" + '%02d' % lat_name)\n",
    "    else:\n",
    "        filename += (\"S\" + '%02d' % abs(lat_name))\n",
    "    \n",
    "    if lon_name >= 0:\n",
    "        filename += (\"E\" + '%03d' % lon_name)\n",
    "    else:\n",
    "        filename += (\"W\" + '%03d' % abs(lon_name))\n",
    "    \n",
    "    filename += \".hgt\"\n",
    "    if os.path.exists(SRTM3_PATH + filename):\n",
    "        return read_elevation_from_file_SRTM3(filename, latitude, longitude)\n",
    "    else:\n",
    "        # ask what to do since SRTM3 only covers S56 to N60\n",
    "        print(\"!\")\n",
    "        return 0"
   ]
  },
  {
   "cell_type": "markdown",
   "id": "e4872d26",
   "metadata": {},
   "source": [
    "## 1.2 SRTM30 (30 arcseconds)"
   ]
  },
  {
   "cell_type": "code",
   "execution_count": 12,
   "id": "4c8b2142",
   "metadata": {},
   "outputs": [],
   "source": [
    "SRTM30_SAMPLES = 120\n",
    "\n",
    "def earth_elevation_grid_SRTM30(data_path):\n",
    "    longitudes = ['N90', 'N40', 'S10']\n",
    "    latitudes = ['W180', 'W140', 'W100', 'W060', 'W020', 'E020', 'E060', 'E100', 'E140']\n",
    "    \n",
    "    bands_to_vertically_stack = []\n",
    "    for lon in longitudes:\n",
    "        files_to_horizontally_stack = []\n",
    "        for lat in latitudes:\n",
    "            filename = lat + lon + '.DEM'\n",
    "            with rasterio.open(SRTM30_PATH + filename) as data:\n",
    "                elevation_data = data.read(1)\n",
    "            files_to_horizontally_stack.append(elevation_data)\n",
    "        bands_to_vertically_stack.append(np.hstack(files_to_horizontally_stack))\n",
    "    return np.vstack(bands_to_vertically_stack)\n",
    "\n",
    "EARTH_ELEVATION_GRID_SRTM30 = earth_elevation_grid_SRTM30(SRTM30_PATH)"
   ]
  },
  {
   "cell_type": "code",
   "execution_count": 13,
   "id": "26834953",
   "metadata": {},
   "outputs": [],
   "source": [
    "def get_elevation_SRTM30(latitude, longitude): \n",
    "    # SRTM30 gives -60 --> 90 long and full lat. \n",
    "    assert -60 < latitude <= 90\n",
    "    row = int(np.round((90 - latitude) * SRTM30_SAMPLES))\n",
    "    col = int(np.round((longitude + 180) * SRTM30_SAMPLES))\n",
    "    return EARTH_ELEVATION_GRID_SRTM30[row, col]"
   ]
  },
  {
   "cell_type": "markdown",
   "id": "6c5cd9f3",
   "metadata": {},
   "source": [
    "## 1.3 EARTH2014 (60 arcseconds)"
   ]
  },
  {
   "cell_type": "code",
   "execution_count": 10,
   "id": "9015af6e",
   "metadata": {},
   "outputs": [],
   "source": [
    "EARTH2014_SAMPLES = 60\n",
    "\n",
    "def earth_elevation_grid_EARTH2014(data_path):\n",
    "    with rasterio.open(data_path + 'Earth2014.SUR2014.1min.geod.grd') as elevation_data:\n",
    "        return elevation_data.read(1)\n",
    "\n",
    "EARTH_ELEVATION_GRID_EARTH2014 = earth_elevation_grid_EARTH2014(EARTH2014_PATH)"
   ]
  },
  {
   "cell_type": "code",
   "execution_count": 11,
   "id": "e03956ae",
   "metadata": {},
   "outputs": [],
   "source": [
    "def get_elevation_EARTH2014(latitude, longitude):\n",
    "    row = int(np.floor((90 - latitude) * EARTH2014_SAMPLES))\n",
    "    col = int(np.floor((longitude + 180) * EARTH2014_SAMPLES))\n",
    "    return EARTH_ELEVATION_GRID_EARTH2014[row, col]"
   ]
  },
  {
   "cell_type": "markdown",
   "id": "8a34d1e5",
   "metadata": {},
   "source": [
    "## 1.4 GMTED2010 (30 arcseconds)\n",
    "Code to collect data from USGS Global Multi-resolution Terrain Elevation Data (GMTED2010) at 30 arc-second resolution. Data set taken from USGS Earth Explorer website (https://earthexplorer.usgs.gov/). "
   ]
  },
  {
   "cell_type": "code",
   "execution_count": null,
   "id": "36879af6",
   "metadata": {},
   "outputs": [],
   "source": [
    "GMTED2010_SAMPLES = 120\n",
    "\n",
    "def generate_earth_elevation_grid_GMTED2010(path):\n",
    "    longitudes = ['S90', 'S70', 'S50', 'S30', 'S10', 'N10', 'N30', 'N50', 'N70']\n",
    "    latitudes = ['W180', 'W150', 'W120', 'W090', 'W060', 'W030', 'E000', 'E030', 'E060', 'E090', 'E120', 'E150']\n",
    "    elevation_grid = None\n",
    "\n",
    "    for longitude in longitudes:\n",
    "        horizontal_band = None\n",
    "        for latitude in latitudes:\n",
    "            filename = longitude.lower()[1:] + longitude.lower()[0] + \\\n",
    "                latitude.lower()[1:] + latitude.lower()[0] + \"_20101117_gmted_mea300.tif\"\n",
    "            file = gdal.Open(path + filename)\n",
    "            band = file.GetRasterBand(1)\n",
    "\n",
    "            # Read the band data as a NumPy array\n",
    "            band_data = band.ReadAsArray()\n",
    "            # print(band_data)\n",
    "            if horizontal_band is None: \n",
    "                horizontal_band = band_data\n",
    "            else:\n",
    "                horizontal_band = np.concatenate((horizontal_band, band_data), axis = 1)\n",
    "            # NOTE that 10n030e is at the lower left hand corner of the \n",
    "            # file when viewed as image. Goes up to 30n30e\n",
    "            \n",
    "        if elevation_grid is None: \n",
    "            elevation_grid = horizontal_band\n",
    "        else: \n",
    "            elevation_grid = np.concatenate((horizontal_band, elevation_grid))\n",
    "    return elevation_grid\n",
    "\n",
    "ELEVATION_GRID_GMTED2010 = generate_earth_elevation_grid_GMTED2010(GMTED2010_PATH)"
   ]
  },
  {
   "cell_type": "code",
   "execution_count": null,
   "id": "f4504e82",
   "metadata": {},
   "outputs": [],
   "source": [
    "def get_elevation_GMTED2010(latitude, longitude):\n",
    "    row = int(np.round(((90 - latitude) * GMTED2010_SAMPLES)) % (180 * GMTED2010_SAMPLES))\n",
    "    col = int(np.round(((longitude + 180) * GMTED2010_SAMPLES)) % (360 * GMTED2010_SAMPLES))\n",
    "    return ELEVATION_GRID_GMTED2010[row][col]"
   ]
  },
  {
   "cell_type": "markdown",
   "id": "26fc1ede",
   "metadata": {},
   "source": [
    "## Benchmarking"
   ]
  },
  {
   "cell_type": "code",
   "execution_count": 15,
   "id": "d40d7a8d",
   "metadata": {},
   "outputs": [
    {
     "name": "stdout",
     "output_type": "stream",
     "text": [
      "48\n",
      "24\n",
      "________\n",
      "656\n",
      "403\n",
      "________\n",
      "490\n",
      "470\n",
      "________\n",
      "63\n",
      "39\n",
      "________\n",
      "4178\n",
      "3969\n",
      "________\n",
      "2502\n",
      "2536\n",
      "________\n",
      "341\n",
      "329\n",
      "________\n",
      "225\n",
      "258\n",
      "________\n"
     ]
    }
   ],
   "source": [
    "# These are coordinates for Catania Italy, Agerola Italy, Albox Spain, Alcantarilha Portugal, \n",
    "# MaunaKea CFHT, Nederland, CO, US\n",
    "\n",
    "# We expect values of 7, 660, 485, 65, ...\n",
    "\n",
    "coordinates = [(37.5079, 15.0830), (40.6239444, 14.5640556), (37.4055556, -2.1519444), (37.133, -8.365), \n",
    "               (19.8252806, -155.4688694), (39.9872083, -105.4455694), (37.0176306, -122.0795), \n",
    "               (34.49125, 132.6511111)]\n",
    "\n",
    "for coordinate in coordinates: \n",
    "    lat, lon = coordinate\n",
    "    print(get_elevation_SRTM3(lat, lon))\n",
    "    print(get_elevation_SRTM30(lat, lon))\n",
    "    #print(get_elevation_EARTH2014(lat, lon))\n",
    "    #print(get_elevation_GMTED2010(lat, lon))\n",
    "    print(\"________\")"
   ]
  },
  {
   "cell_type": "code",
   "execution_count": null,
   "id": "2294e196",
   "metadata": {},
   "outputs": [],
   "source": []
  },
  {
   "cell_type": "code",
   "execution_count": null,
   "id": "2076e771",
   "metadata": {},
   "outputs": [],
   "source": []
  },
  {
   "cell_type": "code",
   "execution_count": null,
   "id": "66479c68",
   "metadata": {},
   "outputs": [],
   "source": []
  },
  {
   "cell_type": "code",
   "execution_count": null,
   "id": "9e67ad73",
   "metadata": {},
   "outputs": [],
   "source": []
  }
 ],
 "metadata": {
  "kernelspec": {
   "display_name": "Python 3 (ipykernel)",
   "language": "python",
   "name": "python3"
  },
  "language_info": {
   "codemirror_mode": {
    "name": "ipython",
    "version": 3
   },
   "file_extension": ".py",
   "mimetype": "text/x-python",
   "name": "python",
   "nbconvert_exporter": "python",
   "pygments_lexer": "ipython3",
   "version": "3.10.6"
  }
 },
 "nbformat": 4,
 "nbformat_minor": 5
}
